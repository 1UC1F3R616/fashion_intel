{
  "nbformat": 4,
  "nbformat_minor": 0,
  "metadata": {
    "colab": {
      "name": "Fashion_Object_detector.ipynb",
      "provenance": [],
      "toc_visible": true
    },
    "kernelspec": {
      "name": "python3",
      "display_name": "Python 3"
    }
  },
  "cells": [
    {
      "cell_type": "markdown",
      "metadata": {
        "id": "R4ripBL7DTO8",
        "colab_type": "text"
      },
      "source": [
        "# Training Object detector."
      ]
    },
    {
      "cell_type": "code",
      "metadata": {
        "id": "0tORymPGDiY4",
        "colab_type": "code",
        "colab": {
          "base_uri": "https://localhost:8080/",
          "height": 133
        },
        "outputId": "1f0086d2-d2c0-4240-8a50-125626e6e8fe"
      },
      "source": [
        "from google.colab import drive\n",
        "drive.mount('/content/drive')"
      ],
      "execution_count": 1,
      "outputs": [
        {
          "output_type": "stream",
          "text": [
            "Go to this URL in a browser: https://accounts.google.com/o/oauth2/auth?client_id=947318989803-6bn6qk8qdgf4n4g3pfee6491hc0brc4i.apps.googleusercontent.com&redirect_uri=urn%3aietf%3awg%3aoauth%3a2.0%3aoob&response_type=code&scope=email%20https%3a%2f%2fwww.googleapis.com%2fauth%2fdocs.test%20https%3a%2f%2fwww.googleapis.com%2fauth%2fdrive%20https%3a%2f%2fwww.googleapis.com%2fauth%2fdrive.photos.readonly%20https%3a%2f%2fwww.googleapis.com%2fauth%2fpeopleapi.readonly\n",
            "\n",
            "Enter your authorization code:\n",
            "··········\n",
            "Mounted at /content/drive\n"
          ],
          "name": "stdout"
        }
      ]
    },
    {
      "cell_type": "code",
      "metadata": {
        "id": "ai_pylFADeIo",
        "colab_type": "code",
        "colab": {}
      },
      "source": [
        "!nvidia-smi"
      ],
      "execution_count": 2,
      "outputs": []
    },
    {
      "cell_type": "code",
      "metadata": {
        "id": "u7Kc4DzmDPu8",
        "colab_type": "code",
        "colab": {
          "base_uri": "https://localhost:8080/",
          "height": 36
        },
        "outputId": "91255cc3-9943-45fb-9a6b-14a998873947"
      },
      "source": [
        "!git clone https://github.com/oke-aditya/pytorch_fasterrcnn.git"
      ],
      "execution_count": 4,
      "outputs": [
        {
          "output_type": "stream",
          "text": [
            "fatal: destination path 'pytorch_fasterrcnn' already exists and is not an empty directory.\n"
          ],
          "name": "stdout"
        }
      ]
    },
    {
      "cell_type": "code",
      "metadata": {
        "id": "8YbZ1GezDc55",
        "colab_type": "code",
        "colab": {
          "base_uri": "https://localhost:8080/",
          "height": 36
        },
        "outputId": "c00e51a9-015a-47f3-c2d5-944f0f3cb5b8"
      },
      "source": [
        "%cd /content/pytorch_fasterrcnn/src"
      ],
      "execution_count": 5,
      "outputs": [
        {
          "output_type": "stream",
          "text": [
            "/content/pytorch_fasterrcnn/src\n"
          ],
          "name": "stdout"
        }
      ]
    },
    {
      "cell_type": "code",
      "metadata": {
        "id": "2f3UFSJhIP4p",
        "colab_type": "code",
        "colab": {}
      },
      "source": [
        "import pandas as pd"
      ],
      "execution_count": 7,
      "outputs": []
    },
    {
      "cell_type": "code",
      "metadata": {
        "id": "HA1GHu-9H3UA",
        "colab_type": "code",
        "colab": {}
      },
      "source": [
        "df = pd.read_csv(\"/content/pytorch_fasterrcnn/src/final_data.csv\")"
      ],
      "execution_count": 9,
      "outputs": []
    },
    {
      "cell_type": "code",
      "metadata": {
        "id": "PUKYi4QPISm4",
        "colab_type": "code",
        "colab": {
          "base_uri": "https://localhost:8080/",
          "height": 206
        },
        "outputId": "adaeb241-00b5-4006-fbef-9a882cddad6c"
      },
      "source": [
        "df.head()"
      ],
      "execution_count": 10,
      "outputs": [
        {
          "output_type": "execute_result",
          "data": {
            "text/html": [
              "<div>\n",
              "<style scoped>\n",
              "    .dataframe tbody tr th:only-of-type {\n",
              "        vertical-align: middle;\n",
              "    }\n",
              "\n",
              "    .dataframe tbody tr th {\n",
              "        vertical-align: top;\n",
              "    }\n",
              "\n",
              "    .dataframe thead th {\n",
              "        text-align: right;\n",
              "    }\n",
              "</style>\n",
              "<table border=\"1\" class=\"dataframe\">\n",
              "  <thead>\n",
              "    <tr style=\"text-align: right;\">\n",
              "      <th></th>\n",
              "      <th>Unnamed: 0</th>\n",
              "      <th>image_id</th>\n",
              "      <th>xtl</th>\n",
              "      <th>ytl</th>\n",
              "      <th>xbr</th>\n",
              "      <th>ybr</th>\n",
              "      <th>target</th>\n",
              "      <th>final_target</th>\n",
              "    </tr>\n",
              "  </thead>\n",
              "  <tbody>\n",
              "    <tr>\n",
              "      <th>0</th>\n",
              "      <td>0</td>\n",
              "      <td>img/WOMEN/Blouses_Shirts/id_00000001/02_1_fron...</td>\n",
              "      <td>50</td>\n",
              "      <td>49</td>\n",
              "      <td>208</td>\n",
              "      <td>235</td>\n",
              "      <td>WOMEN_Blouses_Shirts</td>\n",
              "      <td>17</td>\n",
              "    </tr>\n",
              "    <tr>\n",
              "      <th>1</th>\n",
              "      <td>1</td>\n",
              "      <td>img/WOMEN/Blouses_Shirts/id_00000001/02_2_side...</td>\n",
              "      <td>119</td>\n",
              "      <td>48</td>\n",
              "      <td>136</td>\n",
              "      <td>234</td>\n",
              "      <td>WOMEN_Blouses_Shirts</td>\n",
              "      <td>17</td>\n",
              "    </tr>\n",
              "    <tr>\n",
              "      <th>2</th>\n",
              "      <td>2</td>\n",
              "      <td>img/WOMEN/Blouses_Shirts/id_00000001/02_3_back...</td>\n",
              "      <td>50</td>\n",
              "      <td>42</td>\n",
              "      <td>213</td>\n",
              "      <td>240</td>\n",
              "      <td>WOMEN_Blouses_Shirts</td>\n",
              "      <td>17</td>\n",
              "    </tr>\n",
              "    <tr>\n",
              "      <th>3</th>\n",
              "      <td>3</td>\n",
              "      <td>img/WOMEN/Blouses_Shirts/id_00000001/02_4_full...</td>\n",
              "      <td>82</td>\n",
              "      <td>30</td>\n",
              "      <td>162</td>\n",
              "      <td>129</td>\n",
              "      <td>WOMEN_Blouses_Shirts</td>\n",
              "      <td>17</td>\n",
              "    </tr>\n",
              "    <tr>\n",
              "      <th>4</th>\n",
              "      <td>4</td>\n",
              "      <td>img/WOMEN/Dresses/id_00000002/02_1_front.jpg</td>\n",
              "      <td>65</td>\n",
              "      <td>45</td>\n",
              "      <td>233</td>\n",
              "      <td>252</td>\n",
              "      <td>WOMEN_Dresses</td>\n",
              "      <td>8</td>\n",
              "    </tr>\n",
              "  </tbody>\n",
              "</table>\n",
              "</div>"
            ],
            "text/plain": [
              "   Unnamed: 0  ... final_target\n",
              "0           0  ...           17\n",
              "1           1  ...           17\n",
              "2           2  ...           17\n",
              "3           3  ...           17\n",
              "4           4  ...            8\n",
              "\n",
              "[5 rows x 8 columns]"
            ]
          },
          "metadata": {
            "tags": []
          },
          "execution_count": 10
        }
      ]
    },
    {
      "cell_type": "code",
      "metadata": {
        "id": "8mFQa_XIIVrf",
        "colab_type": "code",
        "colab": {}
      },
      "source": [
        "df = df.drop([\"Unnamed: 0\", \"target\"], axis=1)"
      ],
      "execution_count": 11,
      "outputs": []
    },
    {
      "cell_type": "code",
      "metadata": {
        "id": "RaxoYtMSIcNw",
        "colab_type": "code",
        "colab": {}
      },
      "source": [
        "df"
      ],
      "execution_count": null,
      "outputs": []
    },
    {
      "cell_type": "code",
      "metadata": {
        "id": "9vuiMRLtIzHR",
        "colab_type": "code",
        "colab": {}
      },
      "source": [
        "df_val = df[int(len(df) * 3 // 4): ]\n",
        "df_val.to_csv(\"df_val.csv\", index=False)"
      ],
      "execution_count": 16,
      "outputs": []
    },
    {
      "cell_type": "code",
      "metadata": {
        "id": "5Me9Sl-TJsP3",
        "colab_type": "code",
        "colab": {
          "base_uri": "https://localhost:8080/",
          "height": 36
        },
        "outputId": "dad5f8e2-116e-4db2-b577-2dbaf9790f54"
      },
      "source": [
        "%cd /content/drive/My Drive/img"
      ],
      "execution_count": 19,
      "outputs": [
        {
          "output_type": "stream",
          "text": [
            "/content/drive/My Drive/img\n"
          ],
          "name": "stdout"
        }
      ]
    },
    {
      "cell_type": "code",
      "metadata": {
        "id": "qB6hx5vcInZX",
        "colab_type": "code",
        "colab": {
          "base_uri": "https://localhost:8080/",
          "height": 36
        },
        "outputId": "ad01a2d8-91f4-4002-8402-641216387c2f"
      },
      "source": [
        "%cd /content/pytorch_fasterrcnn/src"
      ],
      "execution_count": 22,
      "outputs": [
        {
          "output_type": "stream",
          "text": [
            "/content/pytorch_fasterrcnn/src\n"
          ],
          "name": "stdout"
        }
      ]
    },
    {
      "cell_type": "code",
      "metadata": {
        "id": "XWpqxVxNKPxi",
        "colab_type": "code",
        "colab": {}
      },
      "source": [
        "!cp -r \"/content/drive/My Drive/img\" ."
      ],
      "execution_count": null,
      "outputs": []
    },
    {
      "cell_type": "code",
      "metadata": {
        "id": "D1rUCp3UKWpA",
        "colab_type": "code",
        "colab": {
          "base_uri": "https://localhost:8080/",
          "height": 517
        },
        "outputId": "69a5cc78-e8fe-4594-a506-d0e01a0e2c65"
      },
      "source": [
        "!python train.py"
      ],
      "execution_count": 26,
      "outputs": [
        {
          "output_type": "stream",
          "text": [
            "Data Loaders created\n",
            "Model loaded to device\n",
            "---------------- Training Started --------------\n",
            "  0% 0/26356 [00:00<?, ?it/s]Traceback (most recent call last):\n",
            "  File \"train.py\", line 78, in <module>\n",
            "    run()\n",
            "  File \"train.py\", line 48, in run\n",
            "    loss_value = engine.train_fn(train_dataloader, detector, optimizer, device)\n",
            "  File \"/content/pytorch_fasterrcnn/src/engine.py\", line 13, in train_fn\n",
            "    for images, targets, image_ids in tqdm(train_dataloader):\n",
            "  File \"/usr/local/lib/python3.6/dist-packages/tqdm/std.py\", line 1104, in __iter__\n",
            "    for obj in iterable:\n",
            "  File \"/usr/local/lib/python3.6/dist-packages/torch/utils/data/dataloader.py\", line 363, in __next__\n",
            "    data = self._next_data()\n",
            "  File \"/usr/local/lib/python3.6/dist-packages/torch/utils/data/dataloader.py\", line 403, in _next_data\n",
            "    data = self._dataset_fetcher.fetch(index)  # may raise StopIteration\n",
            "  File \"/usr/local/lib/python3.6/dist-packages/torch/utils/data/_utils/fetch.py\", line 44, in fetch\n",
            "    data = [self.dataset[idx] for idx in possibly_batched_index]\n",
            "  File \"/usr/local/lib/python3.6/dist-packages/torch/utils/data/_utils/fetch.py\", line 44, in <listcomp>\n",
            "    data = [self.dataset[idx] for idx in possibly_batched_index]\n",
            "  File \"/content/pytorch_fasterrcnn/src/dataset.py\", line 22, in __getitem__\n",
            "    image = cv2.cvtColor(image, cv2.COLOR_BGR2RGB).astype(np.float32)\n",
            "cv2.error: OpenCV(4.1.2) /io/opencv/modules/imgproc/src/color.cpp:182: error: (-215:Assertion failed) !_src.empty() in function 'cvtColor'\n",
            "\n",
            "  0% 0/26356 [00:00<?, ?it/s]\n"
          ],
          "name": "stdout"
        }
      ]
    },
    {
      "cell_type": "code",
      "metadata": {
        "id": "7_pKLefBLyzW",
        "colab_type": "code",
        "colab": {}
      },
      "source": [
        ""
      ],
      "execution_count": null,
      "outputs": []
    }
  ]
}