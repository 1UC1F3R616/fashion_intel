{
  "nbformat": 4,
  "nbformat_minor": 0,
  "metadata": {
    "colab": {
      "name": "Fashion_Object_detector.ipynb",
      "provenance": [],
      "toc_visible": true
    },
    "kernelspec": {
      "name": "python3",
      "display_name": "Python 3"
    },
    "accelerator": "GPU"
  },
  "cells": [
    {
      "cell_type": "markdown",
      "metadata": {
        "id": "R4ripBL7DTO8",
        "colab_type": "text"
      },
      "source": [
        "# Training Object detector."
      ]
    },
    {
      "cell_type": "code",
      "metadata": {
        "id": "0tORymPGDiY4",
        "colab_type": "code",
        "colab": {
          "base_uri": "https://localhost:8080/",
          "height": 133
        },
        "outputId": "8a9a2272-56ef-42d2-a370-ebb53a9419df"
      },
      "source": [
        "from google.colab import drive\n",
        "drive.mount('/content/drive')"
      ],
      "execution_count": 1,
      "outputs": [
        {
          "output_type": "stream",
          "text": [
            "Go to this URL in a browser: https://accounts.google.com/o/oauth2/auth?client_id=947318989803-6bn6qk8qdgf4n4g3pfee6491hc0brc4i.apps.googleusercontent.com&redirect_uri=urn%3aietf%3awg%3aoauth%3a2.0%3aoob&response_type=code&scope=email%20https%3a%2f%2fwww.googleapis.com%2fauth%2fdocs.test%20https%3a%2f%2fwww.googleapis.com%2fauth%2fdrive%20https%3a%2f%2fwww.googleapis.com%2fauth%2fdrive.photos.readonly%20https%3a%2f%2fwww.googleapis.com%2fauth%2fpeopleapi.readonly\n",
            "\n",
            "Enter your authorization code:\n",
            "··········\n",
            "Mounted at /content/drive\n"
          ],
          "name": "stdout"
        }
      ]
    },
    {
      "cell_type": "code",
      "metadata": {
        "id": "c9TVM5WhQgKh",
        "colab_type": "code",
        "colab": {}
      },
      "source": [
        "# !rm -rf \"/content/drive/My Drive/src/img\""
      ],
      "execution_count": null,
      "outputs": []
    },
    {
      "cell_type": "code",
      "metadata": {
        "id": "AhmqRFd2Se3z",
        "colab_type": "code",
        "colab": {
          "base_uri": "https://localhost:8080/",
          "height": 36
        },
        "outputId": "d6214c7d-5d76-4ece-cfb3-6c1249292fcc"
      },
      "source": [
        "%cd \"/content/drive/My Drive/src/\""
      ],
      "execution_count": 14,
      "outputs": [
        {
          "output_type": "stream",
          "text": [
            "/content/drive/My Drive/src\n"
          ],
          "name": "stdout"
        }
      ]
    },
    {
      "cell_type": "code",
      "metadata": {
        "id": "szUZ47boQj5O",
        "colab_type": "code",
        "colab": {}
      },
      "source": [
        "!unzip \"img.zip\""
      ],
      "execution_count": null,
      "outputs": []
    },
    {
      "cell_type": "code",
      "metadata": {
        "id": "ai_pylFADeIo",
        "colab_type": "code",
        "colab": {}
      },
      "source": [
        "!nvidia-smi"
      ],
      "execution_count": null,
      "outputs": []
    },
    {
      "cell_type": "code",
      "metadata": {
        "id": "2f3UFSJhIP4p",
        "colab_type": "code",
        "colab": {}
      },
      "source": [
        "import pandas as pd"
      ],
      "execution_count": 3,
      "outputs": []
    },
    {
      "cell_type": "code",
      "metadata": {
        "id": "HA1GHu-9H3UA",
        "colab_type": "code",
        "colab": {}
      },
      "source": [
        "df = pd.read_csv(\"/content/drive/My Drive/src/final_data.csv\")"
      ],
      "execution_count": 4,
      "outputs": []
    },
    {
      "cell_type": "code",
      "metadata": {
        "id": "PUKYi4QPISm4",
        "colab_type": "code",
        "colab": {
          "base_uri": "https://localhost:8080/",
          "height": 275
        },
        "outputId": "ed8a88c9-4c94-4bbf-efe9-e835318e3262"
      },
      "source": [
        "df.head()"
      ],
      "execution_count": 5,
      "outputs": [
        {
          "output_type": "execute_result",
          "data": {
            "text/html": [
              "<div>\n",
              "<style scoped>\n",
              "    .dataframe tbody tr th:only-of-type {\n",
              "        vertical-align: middle;\n",
              "    }\n",
              "\n",
              "    .dataframe tbody tr th {\n",
              "        vertical-align: top;\n",
              "    }\n",
              "\n",
              "    .dataframe thead th {\n",
              "        text-align: right;\n",
              "    }\n",
              "</style>\n",
              "<table border=\"1\" class=\"dataframe\">\n",
              "  <thead>\n",
              "    <tr style=\"text-align: right;\">\n",
              "      <th></th>\n",
              "      <th>Unnamed: 0</th>\n",
              "      <th>image_id</th>\n",
              "      <th>xtl</th>\n",
              "      <th>ytl</th>\n",
              "      <th>xbr</th>\n",
              "      <th>ybr</th>\n",
              "      <th>target</th>\n",
              "      <th>final_target</th>\n",
              "    </tr>\n",
              "  </thead>\n",
              "  <tbody>\n",
              "    <tr>\n",
              "      <th>0</th>\n",
              "      <td>0</td>\n",
              "      <td>img/WOMEN/Blouses_Shirts/id_00000001/02_1_fron...</td>\n",
              "      <td>50</td>\n",
              "      <td>49</td>\n",
              "      <td>208</td>\n",
              "      <td>235</td>\n",
              "      <td>WOMEN_Blouses_Shirts</td>\n",
              "      <td>17</td>\n",
              "    </tr>\n",
              "    <tr>\n",
              "      <th>1</th>\n",
              "      <td>1</td>\n",
              "      <td>img/WOMEN/Blouses_Shirts/id_00000001/02_2_side...</td>\n",
              "      <td>119</td>\n",
              "      <td>48</td>\n",
              "      <td>136</td>\n",
              "      <td>234</td>\n",
              "      <td>WOMEN_Blouses_Shirts</td>\n",
              "      <td>17</td>\n",
              "    </tr>\n",
              "    <tr>\n",
              "      <th>2</th>\n",
              "      <td>2</td>\n",
              "      <td>img/WOMEN/Blouses_Shirts/id_00000001/02_3_back...</td>\n",
              "      <td>50</td>\n",
              "      <td>42</td>\n",
              "      <td>213</td>\n",
              "      <td>240</td>\n",
              "      <td>WOMEN_Blouses_Shirts</td>\n",
              "      <td>17</td>\n",
              "    </tr>\n",
              "    <tr>\n",
              "      <th>3</th>\n",
              "      <td>3</td>\n",
              "      <td>img/WOMEN/Blouses_Shirts/id_00000001/02_4_full...</td>\n",
              "      <td>82</td>\n",
              "      <td>30</td>\n",
              "      <td>162</td>\n",
              "      <td>129</td>\n",
              "      <td>WOMEN_Blouses_Shirts</td>\n",
              "      <td>17</td>\n",
              "    </tr>\n",
              "    <tr>\n",
              "      <th>4</th>\n",
              "      <td>4</td>\n",
              "      <td>img/WOMEN/Dresses/id_00000002/02_1_front.jpg</td>\n",
              "      <td>65</td>\n",
              "      <td>45</td>\n",
              "      <td>233</td>\n",
              "      <td>252</td>\n",
              "      <td>WOMEN_Dresses</td>\n",
              "      <td>8</td>\n",
              "    </tr>\n",
              "  </tbody>\n",
              "</table>\n",
              "</div>"
            ],
            "text/plain": [
              "   Unnamed: 0  ... final_target\n",
              "0           0  ...           17\n",
              "1           1  ...           17\n",
              "2           2  ...           17\n",
              "3           3  ...           17\n",
              "4           4  ...            8\n",
              "\n",
              "[5 rows x 8 columns]"
            ]
          },
          "metadata": {
            "tags": []
          },
          "execution_count": 5
        }
      ]
    },
    {
      "cell_type": "code",
      "metadata": {
        "id": "jRX2riGeTyMb",
        "colab_type": "code",
        "colab": {}
      },
      "source": [
        "import numpy as np"
      ],
      "execution_count": 6,
      "outputs": []
    },
    {
      "cell_type": "code",
      "metadata": {
        "id": "8mFQa_XIIVrf",
        "colab_type": "code",
        "colab": {}
      },
      "source": [
        "df = df.drop([\"Unnamed: 0\", \"target\"], axis=1)"
      ],
      "execution_count": 7,
      "outputs": []
    },
    {
      "cell_type": "code",
      "metadata": {
        "id": "RaxoYtMSIcNw",
        "colab_type": "code",
        "colab": {
          "base_uri": "https://localhost:8080/",
          "height": 424
        },
        "outputId": "bb22fb2b-e71b-414e-c6ab-c055db2f2f23"
      },
      "source": [
        "df"
      ],
      "execution_count": 8,
      "outputs": [
        {
          "output_type": "execute_result",
          "data": {
            "text/html": [
              "<div>\n",
              "<style scoped>\n",
              "    .dataframe tbody tr th:only-of-type {\n",
              "        vertical-align: middle;\n",
              "    }\n",
              "\n",
              "    .dataframe tbody tr th {\n",
              "        vertical-align: top;\n",
              "    }\n",
              "\n",
              "    .dataframe thead th {\n",
              "        text-align: right;\n",
              "    }\n",
              "</style>\n",
              "<table border=\"1\" class=\"dataframe\">\n",
              "  <thead>\n",
              "    <tr style=\"text-align: right;\">\n",
              "      <th></th>\n",
              "      <th>image_id</th>\n",
              "      <th>xtl</th>\n",
              "      <th>ytl</th>\n",
              "      <th>xbr</th>\n",
              "      <th>ybr</th>\n",
              "      <th>final_target</th>\n",
              "    </tr>\n",
              "  </thead>\n",
              "  <tbody>\n",
              "    <tr>\n",
              "      <th>0</th>\n",
              "      <td>img/WOMEN/Blouses_Shirts/id_00000001/02_1_fron...</td>\n",
              "      <td>50</td>\n",
              "      <td>49</td>\n",
              "      <td>208</td>\n",
              "      <td>235</td>\n",
              "      <td>17</td>\n",
              "    </tr>\n",
              "    <tr>\n",
              "      <th>1</th>\n",
              "      <td>img/WOMEN/Blouses_Shirts/id_00000001/02_2_side...</td>\n",
              "      <td>119</td>\n",
              "      <td>48</td>\n",
              "      <td>136</td>\n",
              "      <td>234</td>\n",
              "      <td>17</td>\n",
              "    </tr>\n",
              "    <tr>\n",
              "      <th>2</th>\n",
              "      <td>img/WOMEN/Blouses_Shirts/id_00000001/02_3_back...</td>\n",
              "      <td>50</td>\n",
              "      <td>42</td>\n",
              "      <td>213</td>\n",
              "      <td>240</td>\n",
              "      <td>17</td>\n",
              "    </tr>\n",
              "    <tr>\n",
              "      <th>3</th>\n",
              "      <td>img/WOMEN/Blouses_Shirts/id_00000001/02_4_full...</td>\n",
              "      <td>82</td>\n",
              "      <td>30</td>\n",
              "      <td>162</td>\n",
              "      <td>129</td>\n",
              "      <td>17</td>\n",
              "    </tr>\n",
              "    <tr>\n",
              "      <th>4</th>\n",
              "      <td>img/WOMEN/Dresses/id_00000002/02_1_front.jpg</td>\n",
              "      <td>65</td>\n",
              "      <td>45</td>\n",
              "      <td>233</td>\n",
              "      <td>252</td>\n",
              "      <td>8</td>\n",
              "    </tr>\n",
              "    <tr>\n",
              "      <th>...</th>\n",
              "      <td>...</td>\n",
              "      <td>...</td>\n",
              "      <td>...</td>\n",
              "      <td>...</td>\n",
              "      <td>...</td>\n",
              "      <td>...</td>\n",
              "    </tr>\n",
              "    <tr>\n",
              "      <th>52707</th>\n",
              "      <td>img/WOMEN/Jackets_Coats/id_00007982/12_7_addit...</td>\n",
              "      <td>100</td>\n",
              "      <td>38</td>\n",
              "      <td>153</td>\n",
              "      <td>143</td>\n",
              "      <td>11</td>\n",
              "    </tr>\n",
              "    <tr>\n",
              "      <th>52708</th>\n",
              "      <td>img/WOMEN/Jackets_Coats/id_00007982/13_1_front...</td>\n",
              "      <td>50</td>\n",
              "      <td>29</td>\n",
              "      <td>236</td>\n",
              "      <td>249</td>\n",
              "      <td>11</td>\n",
              "    </tr>\n",
              "    <tr>\n",
              "      <th>52709</th>\n",
              "      <td>img/WOMEN/Jackets_Coats/id_00007982/13_2_side.jpg</td>\n",
              "      <td>55</td>\n",
              "      <td>29</td>\n",
              "      <td>185</td>\n",
              "      <td>242</td>\n",
              "      <td>11</td>\n",
              "    </tr>\n",
              "    <tr>\n",
              "      <th>52710</th>\n",
              "      <td>img/WOMEN/Jackets_Coats/id_00007982/13_3_back.jpg</td>\n",
              "      <td>86</td>\n",
              "      <td>46</td>\n",
              "      <td>184</td>\n",
              "      <td>245</td>\n",
              "      <td>11</td>\n",
              "    </tr>\n",
              "    <tr>\n",
              "      <th>52711</th>\n",
              "      <td>img/WOMEN/Jackets_Coats/id_00007982/13_7_addit...</td>\n",
              "      <td>94</td>\n",
              "      <td>42</td>\n",
              "      <td>132</td>\n",
              "      <td>143</td>\n",
              "      <td>11</td>\n",
              "    </tr>\n",
              "  </tbody>\n",
              "</table>\n",
              "<p>52712 rows × 6 columns</p>\n",
              "</div>"
            ],
            "text/plain": [
              "                                                image_id  ...  final_target\n",
              "0      img/WOMEN/Blouses_Shirts/id_00000001/02_1_fron...  ...            17\n",
              "1      img/WOMEN/Blouses_Shirts/id_00000001/02_2_side...  ...            17\n",
              "2      img/WOMEN/Blouses_Shirts/id_00000001/02_3_back...  ...            17\n",
              "3      img/WOMEN/Blouses_Shirts/id_00000001/02_4_full...  ...            17\n",
              "4           img/WOMEN/Dresses/id_00000002/02_1_front.jpg  ...             8\n",
              "...                                                  ...  ...           ...\n",
              "52707  img/WOMEN/Jackets_Coats/id_00007982/12_7_addit...  ...            11\n",
              "52708  img/WOMEN/Jackets_Coats/id_00007982/13_1_front...  ...            11\n",
              "52709  img/WOMEN/Jackets_Coats/id_00007982/13_2_side.jpg  ...            11\n",
              "52710  img/WOMEN/Jackets_Coats/id_00007982/13_3_back.jpg  ...            11\n",
              "52711  img/WOMEN/Jackets_Coats/id_00007982/13_7_addit...  ...            11\n",
              "\n",
              "[52712 rows x 6 columns]"
            ]
          },
          "metadata": {
            "tags": []
          },
          "execution_count": 8
        }
      ]
    },
    {
      "cell_type": "code",
      "metadata": {
        "id": "36cS_mM8OpLu",
        "colab_type": "code",
        "colab": {
          "base_uri": "https://localhost:8080/",
          "height": 36
        },
        "outputId": "6c4c9fc9-ec89-480a-a486-880a87af2c8c"
      },
      "source": [
        "print(df['final_target'][0].dtype)"
      ],
      "execution_count": 9,
      "outputs": [
        {
          "output_type": "stream",
          "text": [
            "int64\n"
          ],
          "name": "stdout"
        }
      ]
    },
    {
      "cell_type": "code",
      "metadata": {
        "id": "7tAEy1sOTlUe",
        "colab_type": "code",
        "colab": {
          "base_uri": "https://localhost:8080/",
          "height": 36
        },
        "outputId": "861e3601-64f3-42fe-a82a-84e0fd9b1cc8"
      },
      "source": [
        "print(np.unique(df['final_target']))"
      ],
      "execution_count": 10,
      "outputs": [
        {
          "output_type": "stream",
          "text": [
            "[ 1  2  3  4  5  6  7  8  9 10 11 12 13 14 15 16 17 18 19 20 21 22 23]\n"
          ],
          "name": "stdout"
        }
      ]
    },
    {
      "cell_type": "code",
      "metadata": {
        "id": "9vuiMRLtIzHR",
        "colab_type": "code",
        "colab": {}
      },
      "source": [
        "# df_val = df[int(len(df) * 3 // 4): ]\n",
        "# df_val.to_csv(\"df_val.csv\", index=False)"
      ],
      "execution_count": 11,
      "outputs": []
    },
    {
      "cell_type": "code",
      "metadata": {
        "id": "qB6hx5vcInZX",
        "colab_type": "code",
        "colab": {
          "base_uri": "https://localhost:8080/",
          "height": 55
        },
        "outputId": "e876b1e9-ffa2-4dcd-b387-ce4dbba207ee"
      },
      "source": [
        "%cd \"/content/drive/My Drive/src\"\n",
        "%pwd"
      ],
      "execution_count": 12,
      "outputs": [
        {
          "output_type": "stream",
          "text": [
            "/content/drive/My Drive/src\n"
          ],
          "name": "stdout"
        },
        {
          "output_type": "execute_result",
          "data": {
            "application/vnd.google.colaboratory.intrinsic+json": {
              "type": "string"
            },
            "text/plain": [
              "'/content/drive/My Drive/src'"
            ]
          },
          "metadata": {
            "tags": []
          },
          "execution_count": 12
        }
      ]
    },
    {
      "cell_type": "code",
      "metadata": {
        "id": "D1rUCp3UKWpA",
        "colab_type": "code",
        "colab": {}
      },
      "source": [
        "!python train.py"
      ],
      "execution_count": null,
      "outputs": []
    },
    {
      "cell_type": "code",
      "metadata": {
        "id": "7_pKLefBLyzW",
        "colab_type": "code",
        "colab": {}
      },
      "source": [
        ""
      ],
      "execution_count": null,
      "outputs": []
    }
  ]
}